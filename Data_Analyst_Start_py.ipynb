{
  "nbformat": 4,
  "nbformat_minor": 0,
  "metadata": {
    "colab": {
      "provenance": [],
      "authorship_tag": "ABX9TyN1yJj88Fz+5qZRoQtVyMra",
      "include_colab_link": true
    },
    "kernelspec": {
      "name": "python3",
      "display_name": "Python 3"
    },
    "language_info": {
      "name": "python"
    }
  },
  "cells": [
    {
      "cell_type": "markdown",
      "metadata": {
        "id": "view-in-github",
        "colab_type": "text"
      },
      "source": [
        "<a href=\"https://colab.research.google.com/github/fahmihilmi5/pythonInColab/blob/main/Data_Analyst_Start_py.ipynb\" target=\"_parent\"><img src=\"https://colab.research.google.com/assets/colab-badge.svg\" alt=\"Open In Colab\"/></a>"
      ]
    },
    {
      "cell_type": "markdown",
      "source": [
        "This is a new notebook to learn about being a Data Analyst.\n",
        "\n",
        "This is the first step of re-learning python programming for Data Analysis purposes.\n",
        "\n",
        "23/7/25"
      ],
      "metadata": {
        "id": "Z2tAHEFgHcZq"
      }
    },
    {
      "cell_type": "markdown",
      "source": [
        "First Python Code"
      ],
      "metadata": {
        "id": "kh_jbRljSRso"
      }
    },
    {
      "cell_type": "code",
      "execution_count": 1,
      "metadata": {
        "colab": {
          "base_uri": "https://localhost:8080/"
        },
        "id": "MvsAA-ILHbck",
        "outputId": "b6a27392-812e-4e2f-b7b6-7fc8e6fa6340"
      },
      "outputs": [
        {
          "output_type": "stream",
          "name": "stdout",
          "text": [
            "Hello, world!\n"
          ]
        }
      ],
      "source": [
        "print(\"Hello, world!\")\n"
      ]
    },
    {
      "cell_type": "markdown",
      "source": [
        "Variables & Data Types"
      ],
      "metadata": {
        "id": "II3zXje0SP0o"
      }
    },
    {
      "cell_type": "code",
      "source": [
        "#Numbers\n",
        "\n",
        "age = 25\n",
        "price = 9.99\n",
        "\n",
        "#Text (strings)\n",
        "\n",
        "name = \"Alice\"\n",
        "\n",
        "#Boolean (True/False)\n",
        "\n",
        "is_student = True\n",
        "\n",
        "print(name, \"is\", age, \"years old\")"
      ],
      "metadata": {
        "colab": {
          "base_uri": "https://localhost:8080/"
        },
        "id": "Bh-fOA7QRjx8",
        "outputId": "fba107e4-a814-4041-f220-6480fdebc75e"
      },
      "execution_count": 2,
      "outputs": [
        {
          "output_type": "stream",
          "name": "stdout",
          "text": [
            "Alice is 25 years old\n"
          ]
        }
      ]
    },
    {
      "cell_type": "markdown",
      "source": [
        "Lists for storing multiple items"
      ],
      "metadata": {
        "id": "BO9WXGjqSUAn"
      }
    },
    {
      "cell_type": "code",
      "source": [
        "fruits = [\"apple\", \"banana\", \"orange\"]\n",
        "\n",
        "print(fruits[0]) #first item. the count inside the array starts from the number 0.\n",
        "print(len(fruits)) #length / how many items inside the array"
      ],
      "metadata": {
        "colab": {
          "base_uri": "https://localhost:8080/"
        },
        "id": "CSl4ACIiSTo4",
        "outputId": "d82b879c-8859-4493-b834-714913efab01"
      },
      "execution_count": 3,
      "outputs": [
        {
          "output_type": "stream",
          "name": "stdout",
          "text": [
            "apple\n",
            "3\n"
          ]
        }
      ]
    },
    {
      "cell_type": "markdown",
      "source": [
        "Conditions (if statements)"
      ],
      "metadata": {
        "id": "8NC0z9jiS8lM"
      }
    },
    {
      "cell_type": "code",
      "source": [
        "age = 20\n",
        "\n",
        "if age >= 20:\n",
        "      print(\"you're a fucking adult.\")\n",
        "else:\n",
        "       print(\"bro you're a child.\")\n",
        "\n",
        "#function if & else tak boleh letak jarak kat depan. kena rapat kiri. kecuali kalau guna method."
      ],
      "metadata": {
        "colab": {
          "base_uri": "https://localhost:8080/"
        },
        "id": "C_iaFbKHS-KN",
        "outputId": "7fbf872a-a34d-49e9-b7f4-46489dc987fd"
      },
      "execution_count": 4,
      "outputs": [
        {
          "output_type": "stream",
          "name": "stdout",
          "text": [
            "you're a fucking adult.\n"
          ]
        }
      ]
    },
    {
      "cell_type": "markdown",
      "source": [
        "Loops (repeat actions)"
      ],
      "metadata": {
        "id": "b8byu6quV9vM"
      }
    },
    {
      "cell_type": "code",
      "source": [
        "#print fruits\n",
        "\n",
        "fruits = [\"apple\", \"jackfruits\" , \"kiwi\"]\n",
        "for fruit in fruits:\n",
        "  print(fruit)"
      ],
      "metadata": {
        "colab": {
          "base_uri": "https://localhost:8080/"
        },
        "id": "nWQjJuQSWAeT",
        "outputId": "87e70226-ecce-4b87-8136-0606040770c4"
      },
      "execution_count": 8,
      "outputs": [
        {
          "output_type": "stream",
          "name": "stdout",
          "text": [
            "apple\n",
            "jackfruits\n",
            "kiwi\n"
          ]
        }
      ]
    },
    {
      "cell_type": "markdown",
      "source": [
        "Functions (reusable code blocks)"
      ],
      "metadata": {
        "id": "9uoYCsT7WxjO"
      }
    },
    {
      "cell_type": "code",
      "source": [
        "def greet(name):\n",
        "    print(\"Hello\", name)\n",
        "\n",
        "greet(\"Alice\")\n",
        "greet(\"Bob\")"
      ],
      "metadata": {
        "colab": {
          "base_uri": "https://localhost:8080/"
        },
        "id": "7LApyKATW32X",
        "outputId": "5d6a237a-f3e7-4085-9604-4512a4af9b6d"
      },
      "execution_count": 12,
      "outputs": [
        {
          "output_type": "stream",
          "name": "stdout",
          "text": [
            "Hello Alice\n",
            "Hello Bob\n"
          ]
        }
      ]
    },
    {
      "cell_type": "markdown",
      "source": [
        "Practice.\n",
        "Create a list of your 3 favorite movies.\n",
        "\n",
        "Write a function that adds 2 numbers.\n",
        "\n",
        "Ask the user for their age and tell them how old they'll be in 5 years.\n",
        "\n"
      ],
      "metadata": {
        "id": "_ndsp6RGXnsb"
      }
    },
    {
      "cell_type": "code",
      "source": [
        "movies = [\"Alice in the Borderlands\" , \"Suits\" , \"Rick and Morty\"]\n",
        "\n",
        "a = 1\n",
        "b = 2\n",
        "\n",
        "print(a+b)\n",
        "print (movies)"
      ],
      "metadata": {
        "colab": {
          "base_uri": "https://localhost:8080/"
        },
        "id": "Jjdd4FO0XpWd",
        "outputId": "a9f63967-9949-406c-cff9-c8cbd5a371c6"
      },
      "execution_count": 15,
      "outputs": [
        {
          "output_type": "stream",
          "name": "stdout",
          "text": [
            "3\n",
            "['Alice in the Borderlands', 'Suits', 'Rick and Morty']\n"
          ]
        }
      ]
    },
    {
      "cell_type": "code",
      "source": [
        "age = input(\"Enter your age: \")\n",
        "age = int(age)\n",
        "print(\"In 5 years you'll be\", age + 5)"
      ],
      "metadata": {
        "colab": {
          "base_uri": "https://localhost:8080/"
        },
        "id": "5zHt3TqrYWVM",
        "outputId": "08c1f387-efde-4e27-bc8d-d82d1bd8b80e"
      },
      "execution_count": 16,
      "outputs": [
        {
          "output_type": "stream",
          "name": "stdout",
          "text": [
            "Enter your age: 25\n",
            "In 5 years you'll be 30\n"
          ]
        }
      ]
    }
  ]
}